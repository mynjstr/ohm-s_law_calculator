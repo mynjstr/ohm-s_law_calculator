{
 "cells": [
  {
   "cell_type": "markdown",
   "id": "7d41209f-10ae-4871-852d-1e185e726fa1",
   "metadata": {},
   "source": [
    "# Ohm’s Law Calculator"
   ]
  },
  {
   "cell_type": "markdown",
   "id": "63b37b81-d80d-4d30-93d2-89a07f336adb",
   "metadata": {},
   "source": [
    "### Exercise 2"
   ]
  },
  {
   "cell_type": "markdown",
   "id": "fce05373-c685-47f3-889d-8abe9a336247",
   "metadata": {},
   "source": [
    "#### This program will first ask the user what they want to calculate (voltage, current, or resistance),Then the program will ask the user to input appropriate values and solve the missing value using ohm's law."
   ]
  },
  {
   "cell_type": "code",
   "execution_count": null,
   "id": "49975fe2-3fe2-4792-90e9-fb31ecee87cd",
   "metadata": {},
   "outputs": [],
   "source": [
    "while True:\n",
    "    calculate_type = str(input(\"What do you want to Calculate? Voltage(V), Current(I), Resistance(R): \"))\n",
    "\n",
    "    if calculate_type == \"V\" or \"v\":\n",
    "        while True:\n",
    "            try:\n",
    "                current_value = int(input(\"Input Current Value: \"))\n",
    "                resistance_value = int(input(\"Input Resistance Value: \"))\n",
    "                voltage_calculation = current_value * resistance_value\n",
    "                print(f\"The value of the Voltage is {voltage_calculation}V\")\n",
    "                break\n",
    "            except ValueError:\n",
    "                print(\"Input appropriate integers\")\n",
    "        break\n",
    "    elif calculate_type == \"I\" or \"i\":\n",
    "        while True:\n",
    "            try:\n",
    "                voltage_value = int(input(\"Input Voltage Value: \"))\n",
    "                resistance_value = int(input(\"Input Resistance Value: \"))\n",
    "                current_calculation = voltage_value / resistance_value\n",
    "                print(f\"The value of the Current is {current_calculation}A\")\n",
    "                break\n",
    "            except ZeroDivisionError:\n",
    "                print(\"You cannot divide by zero\")\n",
    "            except ValueError:\n",
    "                print(\"Input appropriate integers\")\n",
    "        break\n",
    "    elif calculate_type == \"R\" or \"r\":\n",
    "        while True:\n",
    "            try:\n",
    "                current_value = int(input(\"Input Current Value: \"))\n",
    "                voltage_value = int(input(\"Input Voltage Value: \"))\n",
    "                resistance_calculation = voltage_value / current_value\n",
    "                print(f\"The value of the Resistance is {resistance_calculation}Ω\")\n",
    "                break\n",
    "            except ZeroDivisionError:\n",
    "                print(\"You cannot divide by zero\")\n",
    "            except ValueError:\n",
    "                print(\"Input appropriate Integers\")\n",
    "        break\n",
    "    else:\n",
    "        print(\"You did not put a proper calculation type \")"
   ]
  }
 ],
 "metadata": {
  "kernelspec": {
   "display_name": "Python 3 (ipykernel)",
   "language": "python",
   "name": "python3"
  },
  "language_info": {
   "codemirror_mode": {
    "name": "ipython",
    "version": 3
   },
   "file_extension": ".py",
   "mimetype": "text/x-python",
   "name": "python",
   "nbconvert_exporter": "python",
   "pygments_lexer": "ipython3",
   "version": "3.12.1"
  }
 },
 "nbformat": 4,
 "nbformat_minor": 5
}
